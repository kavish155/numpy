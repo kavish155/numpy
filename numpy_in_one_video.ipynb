{
 "cells": [
  {
   "cell_type": "code",
   "execution_count": 1,
   "id": "d9884873-7ead-4070-a759-4c5fe11733c9",
   "metadata": {},
   "outputs": [],
   "source": [
    "import numpy as np"
   ]
  },
  {
   "cell_type": "markdown",
   "id": "e5739b6e-73f0-439a-8c70-95c72f615217",
   "metadata": {},
   "source": [
    "# The basics"
   ]
  },
  {
   "cell_type": "code",
   "execution_count": 2,
   "id": "ada9589b-6eea-47c3-a4ec-b49539132d94",
   "metadata": {},
   "outputs": [
    {
     "name": "stdout",
     "output_type": "stream",
     "text": [
      "[1 2 3]\n"
     ]
    }
   ],
   "source": [
    "a=np.array([1,2,3])\n",
    "print(a)"
   ]
  },
  {
   "cell_type": "code",
   "execution_count": 3,
   "id": "f9c5a1cf-421f-48c8-9513-a0f1623181da",
   "metadata": {},
   "outputs": [
    {
     "name": "stdout",
     "output_type": "stream",
     "text": [
      "[[1. 2. 3.]\n",
      " [4. 5. 6.]]\n"
     ]
    }
   ],
   "source": [
    "b=np.array([[1.0,2.0,3.0],[4.0,5.0,6.0]])\n",
    "print(b)"
   ]
  },
  {
   "cell_type": "code",
   "execution_count": 6,
   "id": "c22e0362-6866-4048-b325-8220b32fe983",
   "metadata": {},
   "outputs": [
    {
     "name": "stdout",
     "output_type": "stream",
     "text": [
      "int32\n",
      "float64\n"
     ]
    }
   ],
   "source": [
    "#data type\n",
    "print(a.dtype)\n",
    "print(b.dtype)"
   ]
  },
  {
   "cell_type": "code",
   "execution_count": 10,
   "id": "b5bf6299-02ac-4d14-b27f-79128fd595c6",
   "metadata": {},
   "outputs": [
    {
     "name": "stdout",
     "output_type": "stream",
     "text": [
      "1\n",
      "2\n"
     ]
    }
   ],
   "source": [
    "# dimension\n",
    "print(a.ndim)\n",
    "print(b.ndim)"
   ]
  },
  {
   "cell_type": "code",
   "execution_count": 11,
   "id": "206d11e5-f8ee-4243-ac20-00448fb4e372",
   "metadata": {},
   "outputs": [
    {
     "name": "stdout",
     "output_type": "stream",
     "text": [
      "(3,)\n",
      "(2, 3)\n"
     ]
    }
   ],
   "source": [
    "#shape\n",
    "print(a.shape)\n",
    "print(b.shape)"
   ]
  },
  {
   "cell_type": "code",
   "execution_count": 13,
   "id": "cf2e71b0-9f10-462f-8e11-323881e11277",
   "metadata": {},
   "outputs": [
    {
     "name": "stdout",
     "output_type": "stream",
     "text": [
      "float64\n",
      "int64\n"
     ]
    }
   ],
   "source": [
    "# change datatype\n",
    "a=np.array([1,2,3],dtype=\"float64\")\n",
    "b=np.array([[1.0,2.0,3.0],[4.0,5.0,6.0]],dtype=\"int64\")\n",
    "print(a.dtype)\n",
    "print(b.dtype)"
   ]
  },
  {
   "cell_type": "code",
   "execution_count": 14,
   "id": "640bf344-248e-429c-b770-07a805cbff64",
   "metadata": {},
   "outputs": [],
   "source": [
    "a=np.array([1,2,3])\n",
    "b=np.array([[1.0,2.0,3.0],[4.0,5.0,6.0]])"
   ]
  },
  {
   "cell_type": "code",
   "execution_count": 17,
   "id": "5d8af210-2e2d-4f1e-8620-14e522e50635",
   "metadata": {},
   "outputs": [
    {
     "name": "stdout",
     "output_type": "stream",
     "text": [
      "3\n",
      "6\n",
      "4\n",
      "8\n",
      "12\n",
      "12\n",
      "48\n",
      "48\n"
     ]
    }
   ],
   "source": [
    "#size\n",
    "print(a.size)\n",
    "print(b.size)\n",
    "print(a.itemsize)\n",
    "print(b.itemsize)\n",
    "print(a.size*a.itemsize)\n",
    "print(a.nbytes)\n",
    "print(b.size*b.itemsize)\n",
    "print(b.nbytes)"
   ]
  },
  {
   "cell_type": "markdown",
   "id": "19db1a08-95ca-47e7-8dc5-ecd323614ecb",
   "metadata": {},
   "source": [
    "### accessing and changing specific elements of columns,rows"
   ]
  },
  {
   "cell_type": "code",
   "execution_count": 18,
   "id": "06c16282-d882-4bfe-bdbf-737aa4a33cf5",
   "metadata": {},
   "outputs": [
    {
     "name": "stdout",
     "output_type": "stream",
     "text": [
      "[[ 1  2  3  4  5  6  7]\n",
      " [ 8  9 10 11 12 13 14]]\n"
     ]
    }
   ],
   "source": [
    "a=np.array([[1,2,3,4,5,6,7],[8,9,10,11,12,13,14]])\n",
    "print(a)"
   ]
  },
  {
   "cell_type": "code",
   "execution_count": 22,
   "id": "a08b99a2-06b4-4963-88fb-d79210dcab72",
   "metadata": {},
   "outputs": [
    {
     "name": "stdout",
     "output_type": "stream",
     "text": [
      "11\n",
      "[ 8  9 10 11 12 13 14]\n",
      "[ 3 10]\n",
      "[[10 11]]\n"
     ]
    }
   ],
   "source": [
    "#a[r][c] or a[r,c]   r=row,c=column\n",
    "print(a[1,3])\n",
    "print(a[-1,:]) # get specific row\n",
    "print(a[0]) # get specific row\n",
    "print(a[:,2]) # get specific column\n",
    "print(a[1:,2:4]) # get ranged elements"
   ]
  },
  {
   "cell_type": "code",
   "execution_count": 24,
   "id": "d0efac0d-040f-47ee-bb6b-21788dea4c32",
   "metadata": {},
   "outputs": [
    {
     "name": "stdout",
     "output_type": "stream",
     "text": [
      "[ 8 10 12]\n",
      "[1 4]\n"
     ]
    }
   ],
   "source": [
    "# step size  [start:end:gap]\n",
    "print(a[1,0:5:2])\n",
    "print(a[0,0:6:3])"
   ]
  },
  {
   "cell_type": "code",
   "execution_count": 27,
   "id": "a7494b0b-5db2-4fe0-b1ff-8576c7f2cdc4",
   "metadata": {},
   "outputs": [
    {
     "name": "stdout",
     "output_type": "stream",
     "text": [
      "[[  1   2   3   4   5   6   7]\n",
      " [  8   9  10  11 100  13  14]]\n",
      "[[  1   2   3   4   5   6   7]\n",
      " [  8   9  10  11 100  13  14]]\n",
      "[[1 2 3 4 5 6 7]\n",
      " [7 6 5 4 3 2 1]]\n"
     ]
    }
   ],
   "source": [
    "# changing elements\n",
    "print(a)\n",
    "a[1,4]=100\n",
    "print(a)\n",
    "a[1,:]=[7,6,5,4,3,2,1]\n",
    "print(a)"
   ]
  },
  {
   "cell_type": "code",
   "execution_count": 29,
   "id": "0560a84e-234b-435f-912f-29a5e589ddeb",
   "metadata": {},
   "outputs": [
    {
     "name": "stdout",
     "output_type": "stream",
     "text": [
      "[[[1 2]\n",
      "  [3 4]]\n",
      "\n",
      " [[5 6]\n",
      "  [7 8]]]\n"
     ]
    }
   ],
   "source": [
    "b=np.array([[[1,2],[3,4]],[[5,6],[7,8]]])\n",
    "print(b)"
   ]
  },
  {
   "cell_type": "code",
   "execution_count": 36,
   "id": "dab3b36a-3b8f-4be9-8203-d06c2db81cd2",
   "metadata": {},
   "outputs": [
    {
     "name": "stdout",
     "output_type": "stream",
     "text": [
      "3\n",
      "(2, 2, 2)\n",
      "[4 8]\n",
      "4\n",
      "[[[9 9]\n",
      "  [3 4]]\n",
      "\n",
      " [[5 6]\n",
      "  [7 8]]]\n"
     ]
    }
   ],
   "source": [
    "print(b.ndim)\n",
    "print(b.shape)\n",
    "print(b[:,1,1])\n",
    "print(b[0,1,1])\n",
    "b[0,0,:]=[9,9]\n",
    "print(b)"
   ]
  },
  {
   "cell_type": "markdown",
   "id": "aeae7915-100d-413c-be86-23667904b108",
   "metadata": {},
   "source": [
    "### initializing different kind of arrays"
   ]
  },
  {
   "cell_type": "code",
   "execution_count": 38,
   "id": "d8ec98a3-a0c9-4a91-8c4e-3f39ee6bf29e",
   "metadata": {},
   "outputs": [
    {
     "name": "stdout",
     "output_type": "stream",
     "text": [
      "[0. 0. 0. 0.]\n",
      "[[0. 0. 0. 0. 0.]\n",
      " [0. 0. 0. 0. 0.]]\n",
      "[[[0. 0.]\n",
      "  [0. 0.]\n",
      "  [0. 0.]]\n",
      "\n",
      " [[0. 0.]\n",
      "  [0. 0.]\n",
      "  [0. 0.]]]\n",
      "float64\n"
     ]
    }
   ],
   "source": [
    "# zeros matrix\n",
    "a=np.zeros(4)\n",
    "b=np.zeros((2,5))\n",
    "c=np.zeros((2,3,2))\n",
    "print(a)\n",
    "print(b)\n",
    "print(c)\n",
    "print(c.dtype)"
   ]
  },
  {
   "cell_type": "code",
   "execution_count": 41,
   "id": "1baa9458-44d4-449f-95fe-20a4efd6b4c9",
   "metadata": {},
   "outputs": [
    {
     "name": "stdout",
     "output_type": "stream",
     "text": [
      "[1. 1. 1. 1.]\n",
      "[[1. 1. 1. 1.]\n",
      " [1. 1. 1. 1.]\n",
      " [1. 1. 1. 1.]]\n",
      "[[[1 1 1]\n",
      "  [1 1 1]]\n",
      "\n",
      " [[1 1 1]\n",
      "  [1 1 1]]\n",
      "\n",
      " [[1 1 1]\n",
      "  [1 1 1]]]\n"
     ]
    }
   ],
   "source": [
    "#ones matrix\n",
    "a=np.ones(4)\n",
    "b=np.ones((3,4))\n",
    "c=np.ones((3,2,3),dtype=\"int\")\n",
    "print(a)\n",
    "print(b)\n",
    "print(c)\n"
   ]
  },
  {
   "cell_type": "code",
   "execution_count": 44,
   "id": "d1b4c613-cd81-44f6-a5fe-5cc343d1c715",
   "metadata": {},
   "outputs": [
    {
     "name": "stdout",
     "output_type": "stream",
     "text": [
      "[[3 3 3 3]\n",
      " [3 3 3 3]\n",
      " [3 3 3 3]\n",
      " [3 3 3 3]]\n",
      "[[23 23]\n",
      " [23 23]\n",
      " [23 23]]\n"
     ]
    }
   ],
   "source": [
    "# any other number\n",
    "d=np.full((4,4),3)\n",
    "print(d)\n",
    "e=np.full((3,2),23)\n",
    "print(e)\n"
   ]
  },
  {
   "cell_type": "code",
   "execution_count": 46,
   "id": "b5a18533-ec67-4dbe-be72-064058851574",
   "metadata": {},
   "outputs": [
    {
     "name": "stdout",
     "output_type": "stream",
     "text": [
      "[[67 67 67 67]\n",
      " [67 67 67 67]\n",
      " [67 67 67 67]\n",
      " [67 67 67 67]]\n",
      "[[12 12 12 12]\n",
      " [12 12 12 12]\n",
      " [12 12 12 12]\n",
      " [12 12 12 12]]\n"
     ]
    }
   ],
   "source": [
    "# take shape of another array and make it full with other number\n",
    "k=np.full(d.shape,67)\n",
    "print(k)\n",
    "k=np.full_like(d,12)\n",
    "print(k)"
   ]
  },
  {
   "cell_type": "code",
   "execution_count": 48,
   "id": "21447fb1-10e8-486d-a23f-32b1f7733179",
   "metadata": {},
   "outputs": [
    {
     "name": "stdout",
     "output_type": "stream",
     "text": [
      "[[0.29023232 0.15081012 0.03094384 0.09770685 0.63073758]\n",
      " [0.16791302 0.01476077 0.46400331 0.3193827  0.21208958]\n",
      " [0.14739013 0.79295585 0.62012017 0.23003568 0.56206471]\n",
      " [0.91466439 0.50848147 0.49849901 0.08592665 0.58612637]\n",
      " [0.47434327 0.90445045 0.75545759 0.25606826 0.86049944]]\n",
      "[[0.06527734 0.81275667 0.48298559]\n",
      " [0.70940081 0.63892696 0.37288307]]\n"
     ]
    }
   ],
   "source": [
    "#random numbers between 0 to 1\n",
    "a=np.random.rand(5,5)\n",
    "print(a)\n",
    "b=np.random.rand(2,3)\n",
    "print(b)"
   ]
  },
  {
   "cell_type": "code",
   "execution_count": 50,
   "id": "4f38aede-0fd5-42fc-970a-ef6315fd5479",
   "metadata": {},
   "outputs": [
    {
     "name": "stdout",
     "output_type": "stream",
     "text": [
      "[[0.54027739 0.9927966  0.29629885 0.50805332 0.7034816 ]\n",
      " [0.02685073 0.07518169 0.6013451  0.97552691 0.31059548]\n",
      " [0.38435039 0.06978992 0.6870411  0.45395347 0.09424257]\n",
      " [0.38033483 0.08769284 0.93085869 0.1491562  0.5705746 ]\n",
      " [0.93358832 0.94421759 0.28124361 0.55573689 0.56853139]]\n",
      "[[0.22640572 0.63678287 0.29408127]\n",
      " [0.0968836  0.49796337 0.2475376 ]]\n"
     ]
    }
   ],
   "source": [
    "# random numbers with a particular shape\n",
    "k=np.random.random_sample(a.shape)\n",
    "print(k)\n",
    "l=np.random.random_sample(b.shape)\n",
    "print(l)"
   ]
  },
  {
   "cell_type": "code",
   "execution_count": 53,
   "id": "1066ce7a-4c65-423e-a951-d1c79f45b6a0",
   "metadata": {},
   "outputs": [
    {
     "name": "stdout",
     "output_type": "stream",
     "text": [
      "[[3 9 6 8]\n",
      " [7 5 3 8]\n",
      " [3 6 5 9]\n",
      " [9 3 7 5]\n",
      " [4 8 7 4]\n",
      " [4 6 6 3]\n",
      " [8 5 7 5]]\n",
      "[2 0 2 3 4 0 4 4 1 3 3 1 2 1 2 4 4 3 3 3 3 3 3 0]\n",
      "[-8 -6 -8 -7  4 -7 -7 -4 -3 -4  4  2  3 -6 -2  3 -2  4  3  3  2 -5 -5 -2]\n"
     ]
    }
   ],
   "source": [
    "# random numbers between particular integers\n",
    "f=np.random.randint(3,10,size=(7,4))  # int between 3,10\n",
    "print(f)\n",
    "t=np.random.randint(5,size=(24))   # int from 0 to 5\n",
    "print(t)\n",
    "t=np.random.randint(-8,5,size=(24))   # int from 0 to 5\n",
    "print(t)"
   ]
  },
  {
   "cell_type": "code",
   "execution_count": 58,
   "id": "57b6be8d-1721-4e2f-9ee3-4607591d2c5f",
   "metadata": {},
   "outputs": [
    {
     "name": "stdout",
     "output_type": "stream",
     "text": [
      "[[1 0 0 0]\n",
      " [0 1 0 0]\n",
      " [0 0 1 0]\n",
      " [0 0 0 1]]\n",
      "[[1. 0. 0. 0. 0.]\n",
      " [0. 1. 0. 0. 0.]\n",
      " [0. 0. 1. 0. 0.]\n",
      " [0. 0. 0. 1. 0.]\n",
      " [0. 0. 0. 0. 1.]]\n"
     ]
    }
   ],
   "source": [
    "# identity matrix\n",
    "a=np.identity(4,dtype=\"int\")\n",
    "print(a)\n",
    "b=np.identity(5)\n",
    "print(b)"
   ]
  },
  {
   "cell_type": "code",
   "execution_count": 64,
   "id": "227dd987-5bcc-4ae2-8ade-55f2fb7bb222",
   "metadata": {},
   "outputs": [
    {
     "name": "stdout",
     "output_type": "stream",
     "text": [
      "[[2 3 4 5]\n",
      " [2 3 4 5]\n",
      " [2 3 4 5]\n",
      " [2 3 4 5]]\n"
     ]
    }
   ],
   "source": [
    "# repeat of an array\n",
    "a=np.array([[2,3,4,5]])\n",
    "b=np.repeat(a,4,axis=0)\n",
    "print(b)"
   ]
  },
  {
   "cell_type": "markdown",
   "id": "cccc4948-79fe-4a35-9332-29e6811eb187",
   "metadata": {},
   "source": [
    "## exercise print the given figure"
   ]
  },
  {
   "cell_type": "code",
   "execution_count": 66,
   "id": "cf4cf5d2-b5aa-4282-8955-7717668d0de2",
   "metadata": {},
   "outputs": [
    {
     "name": "stdout",
     "output_type": "stream",
     "text": [
      "[[1. 1. 1. 1. 1.]\n",
      " [1. 0. 0. 0. 1.]\n",
      " [1. 0. 9. 0. 1.]\n",
      " [1. 0. 0. 0. 1.]\n",
      " [1. 1. 1. 1. 1.]]\n"
     ]
    }
   ],
   "source": [
    "a=np.ones((5,5))\n",
    "b=np.zeros((3,3))\n",
    "b[1,1]=9\n",
    "a[1:4,1:4]=b\n",
    "print(a)"
   ]
  },
  {
   "cell_type": "markdown",
   "id": "57cc358e-f710-4925-a49e-1e071525d45c",
   "metadata": {},
   "source": [
    "## copying a array"
   ]
  },
  {
   "cell_type": "code",
   "execution_count": 71,
   "id": "1ce3f4bb-1ee1-44d9-8ea5-3f4c79412290",
   "metadata": {},
   "outputs": [
    {
     "name": "stdout",
     "output_type": "stream",
     "text": [
      "[1 2 3 4]\n",
      "[ 1  2 99  4]\n",
      "[1 2 3 4]\n",
      "[1 2 3 4]\n"
     ]
    }
   ],
   "source": [
    "a=np.array([1,2,3,4])\n",
    "b=a\n",
    "print(b)\n",
    "b[2]=99\n",
    "print(a)\n",
    "# why a change, it should not be changed\n",
    "a=np.array([1,2,3,4])\n",
    "b=a.copy()\n",
    "print(b)\n",
    "b[2]=99\n",
    "print(a)\n",
    "# a did not change"
   ]
  },
  {
   "cell_type": "markdown",
   "id": "ea8677a4-034f-435a-9a5b-f53c3ec3833c",
   "metadata": {},
   "source": [
    "## mathematics"
   ]
  },
  {
   "cell_type": "code",
   "execution_count": 95,
   "id": "cfa7ba1b-a713-4348-95e5-3aea0467e854",
   "metadata": {},
   "outputs": [
    {
     "name": "stdout",
     "output_type": "stream",
     "text": [
      "[1 2 3 4 5]\n"
     ]
    }
   ],
   "source": [
    "a=np.array([1,2,3,4,5])\n",
    "print(a)"
   ]
  },
  {
   "cell_type": "code",
   "execution_count": 96,
   "id": "f0d917bc-ca14-4757-adfb-5a6e1d7d4004",
   "metadata": {},
   "outputs": [
    {
     "data": {
      "text/plain": [
       "array([3, 4, 5, 6, 7])"
      ]
     },
     "execution_count": 96,
     "metadata": {},
     "output_type": "execute_result"
    }
   ],
   "source": [
    "a+2"
   ]
  },
  {
   "cell_type": "code",
   "execution_count": 97,
   "id": "bf05ed6b-1cb0-48b4-97ca-d91340d700e7",
   "metadata": {},
   "outputs": [
    {
     "data": {
      "text/plain": [
       "array([-1,  0,  1,  2,  3])"
      ]
     },
     "execution_count": 97,
     "metadata": {},
     "output_type": "execute_result"
    }
   ],
   "source": [
    "a-2"
   ]
  },
  {
   "cell_type": "code",
   "execution_count": 98,
   "id": "336ec891-9bf1-4b17-8b67-3b791120667e",
   "metadata": {},
   "outputs": [
    {
     "data": {
      "text/plain": [
       "array([ 2,  4,  6,  8, 10])"
      ]
     },
     "execution_count": 98,
     "metadata": {},
     "output_type": "execute_result"
    }
   ],
   "source": [
    "a*2"
   ]
  },
  {
   "cell_type": "code",
   "execution_count": 99,
   "id": "705425a4-7292-4152-98a1-3c8d952dd3ae",
   "metadata": {},
   "outputs": [
    {
     "data": {
      "text/plain": [
       "array([ 1,  4,  9, 16, 25])"
      ]
     },
     "execution_count": 99,
     "metadata": {},
     "output_type": "execute_result"
    }
   ],
   "source": [
    "a**2"
   ]
  },
  {
   "cell_type": "code",
   "execution_count": 100,
   "id": "86e40507-97d7-44fd-a296-a5352931548f",
   "metadata": {},
   "outputs": [
    {
     "data": {
      "text/plain": [
       "array([0.5, 1. , 1.5, 2. , 2.5])"
      ]
     },
     "execution_count": 100,
     "metadata": {},
     "output_type": "execute_result"
    }
   ],
   "source": [
    "a/2"
   ]
  },
  {
   "cell_type": "code",
   "execution_count": 101,
   "id": "cd674a09-e2ae-4c17-b18e-ac4a32d38be8",
   "metadata": {},
   "outputs": [
    {
     "data": {
      "text/plain": [
       "array([1, 2, 3, 4, 5])"
      ]
     },
     "execution_count": 101,
     "metadata": {},
     "output_type": "execute_result"
    }
   ],
   "source": [
    "a"
   ]
  },
  {
   "cell_type": "code",
   "execution_count": 102,
   "id": "629e5116-e26a-41d4-a128-bdf5faa45342",
   "metadata": {},
   "outputs": [
    {
     "name": "stdout",
     "output_type": "stream",
     "text": [
      "[3 4 5 6 7]\n"
     ]
    }
   ],
   "source": [
    "a=a+2\n",
    "print(a)"
   ]
  },
  {
   "cell_type": "code",
   "execution_count": 103,
   "id": "7329c44d-1de5-4540-93fc-e82ed0493481",
   "metadata": {},
   "outputs": [
    {
     "name": "stdout",
     "output_type": "stream",
     "text": [
      "[3 4 5 6 7]\n"
     ]
    }
   ],
   "source": [
    "print(a)"
   ]
  },
  {
   "cell_type": "code",
   "execution_count": 104,
   "id": "208d09d0-451f-4a1f-9cb8-2ed078eb923a",
   "metadata": {},
   "outputs": [
    {
     "name": "stdout",
     "output_type": "stream",
     "text": [
      "[ 4  6  8 10 12]\n"
     ]
    }
   ],
   "source": [
    "b=np.array([1,2,3,4,5])\n",
    "c=a+b\n",
    "print(c)"
   ]
  },
  {
   "cell_type": "code",
   "execution_count": 105,
   "id": "382a1c85-0f93-4be4-88b3-0e295e46f698",
   "metadata": {},
   "outputs": [
    {
     "name": "stdout",
     "output_type": "stream",
     "text": [
      "[2 2 2 2 2]\n"
     ]
    }
   ],
   "source": [
    "c=a-b\n",
    "print(c)"
   ]
  },
  {
   "cell_type": "code",
   "execution_count": 106,
   "id": "e7c8611f-eb28-4694-821d-3c3ac4370d90",
   "metadata": {},
   "outputs": [
    {
     "name": "stdout",
     "output_type": "stream",
     "text": [
      "[ 3  8 15 24 35]\n"
     ]
    }
   ],
   "source": [
    "c=a*b\n",
    "print(c)"
   ]
  },
  {
   "cell_type": "code",
   "execution_count": 107,
   "id": "085ae5e4-0af2-4c9c-a176-27a1f9cc0ca4",
   "metadata": {},
   "outputs": [
    {
     "name": "stdout",
     "output_type": "stream",
     "text": [
      "[3.         2.         1.66666667 1.5        1.4       ]\n"
     ]
    }
   ],
   "source": [
    "c=a/b\n",
    "print(c)"
   ]
  },
  {
   "cell_type": "code",
   "execution_count": 108,
   "id": "dfe14ccb-2f52-40b4-8aa8-6baf45cfb8de",
   "metadata": {},
   "outputs": [
    {
     "name": "stdout",
     "output_type": "stream",
     "text": [
      "[3 4 5 6 7]\n"
     ]
    }
   ],
   "source": [
    "print(a)"
   ]
  },
  {
   "cell_type": "code",
   "execution_count": 109,
   "id": "d91dc876-c33b-46f0-84c2-44b581315528",
   "metadata": {},
   "outputs": [
    {
     "data": {
      "text/plain": [
       "array([ 0.14112001, -0.7568025 , -0.95892427, -0.2794155 ,  0.6569866 ])"
      ]
     },
     "execution_count": 109,
     "metadata": {},
     "output_type": "execute_result"
    }
   ],
   "source": [
    "np.sin(a)"
   ]
  },
  {
   "cell_type": "code",
   "execution_count": 110,
   "id": "f28a8197-5b4d-49c5-a42d-f4e18881cab7",
   "metadata": {},
   "outputs": [
    {
     "data": {
      "text/plain": [
       "array([-0.9899925 , -0.65364362,  0.28366219,  0.96017029,  0.75390225])"
      ]
     },
     "execution_count": 110,
     "metadata": {},
     "output_type": "execute_result"
    }
   ],
   "source": [
    "np.cos(a)"
   ]
  },
  {
   "cell_type": "code",
   "execution_count": 112,
   "id": "2fa28075-9811-48b4-a92e-c4106938b477",
   "metadata": {},
   "outputs": [
    {
     "data": {
      "text/plain": [
       "array([-0.14254654,  1.15782128, -3.38051501, -0.29100619,  0.87144798])"
      ]
     },
     "execution_count": 112,
     "metadata": {},
     "output_type": "execute_result"
    }
   ],
   "source": [
    "np.tan(a)"
   ]
  },
  {
   "cell_type": "markdown",
   "id": "48bc0d8b-3d0c-446f-9772-73b653fe344b",
   "metadata": {},
   "source": [
    "## linear algebra"
   ]
  },
  {
   "cell_type": "code",
   "execution_count": 113,
   "id": "6ce8ef76-993b-475d-9e19-342c5734351d",
   "metadata": {},
   "outputs": [
    {
     "name": "stdout",
     "output_type": "stream",
     "text": [
      "[[1. 1. 1.]\n",
      " [1. 1. 1.]]\n",
      "[[2 2]\n",
      " [2 2]\n",
      " [2 2]]\n"
     ]
    }
   ],
   "source": [
    "# matrix multiplication\n",
    "a=np.ones((2,3))\n",
    "b=np.full((3,2),2)\n",
    "print(a)\n",
    "print(b)"
   ]
  },
  {
   "cell_type": "code",
   "execution_count": 116,
   "id": "1fcc5a27-20b9-4b6c-a503-e1f08542e1eb",
   "metadata": {},
   "outputs": [
    {
     "name": "stdout",
     "output_type": "stream",
     "text": [
      "[[6. 6.]\n",
      " [6. 6.]]\n",
      "-43.0\n"
     ]
    }
   ],
   "source": [
    "#matrix multiplication\n",
    "c=np.matmul(a,b)\n",
    "print(c)\n",
    "# determinant finding\n",
    "a=np.array([[1,2],[33,23]])\n",
    "print(np.linalg.det(a)) # finding determinant"
   ]
  },
  {
   "cell_type": "markdown",
   "id": "ac8dd38b-46db-4acb-af00-20dcea329dfc",
   "metadata": {},
   "source": [
    "## statistics"
   ]
  },
  {
   "cell_type": "code",
   "execution_count": 121,
   "id": "7225aeb6-92e4-45c9-90e4-9a3f0f97e7c3",
   "metadata": {},
   "outputs": [
    {
     "name": "stdout",
     "output_type": "stream",
     "text": [
      "[[1 2 3]\n",
      " [4 5 6]]\n",
      "6\n",
      "6\n",
      "[4 5 6]\n",
      "[4 5 6]\n"
     ]
    }
   ],
   "source": [
    "stats=np.array([[1,2,3],[4,5,6]])\n",
    "print(stats)\n",
    "print(stats.max())\n",
    "print(np.max(stats))\n",
    "print(stats.max(axis=0))\n",
    "print(np.max(stats,axis=0))\n"
   ]
  },
  {
   "cell_type": "code",
   "execution_count": 122,
   "id": "f0bb3628-9cd1-4d1b-9086-9a01faeac304",
   "metadata": {},
   "outputs": [
    {
     "name": "stdout",
     "output_type": "stream",
     "text": [
      "1\n",
      "1\n",
      "[1 2 3]\n",
      "[1 4]\n"
     ]
    }
   ],
   "source": [
    "print(stats.min())\n",
    "print(np.min(stats))\n",
    "print(stats.min(axis=0))\n",
    "print(np.min(stats,axis=1))"
   ]
  },
  {
   "cell_type": "code",
   "execution_count": 123,
   "id": "7071bbf6-ef5c-48d0-b1ba-931a5f837df3",
   "metadata": {},
   "outputs": [
    {
     "name": "stdout",
     "output_type": "stream",
     "text": [
      "21\n",
      "21\n",
      "[5 7 9]\n",
      "[ 6 15]\n"
     ]
    }
   ],
   "source": [
    "print(stats.sum())\n",
    "print(np.sum(stats))\n",
    "print(stats.sum(axis=0))\n",
    "print(np.sum(stats,axis=1))"
   ]
  },
  {
   "cell_type": "markdown",
   "id": "e318b818-0909-4686-acb9-33de75055626",
   "metadata": {},
   "source": [
    "## reorganizing the arrays"
   ]
  },
  {
   "cell_type": "code",
   "execution_count": 124,
   "id": "e7fdb496-9523-47af-99e3-9bbe0b9de15d",
   "metadata": {},
   "outputs": [
    {
     "name": "stdout",
     "output_type": "stream",
     "text": [
      "[[ 1  2  3  4]\n",
      " [ 5  9  6  7]\n",
      " [ 8  9 10 87]]\n"
     ]
    }
   ],
   "source": [
    "before=np.array([[1,2,3,4,5,9],[6,7,8,9,10,87]])\n",
    "c=before.reshape((3,4))\n",
    "print(c)"
   ]
  },
  {
   "cell_type": "code",
   "execution_count": 131,
   "id": "b06d6359-99ad-4c09-baa6-74daa3a44d1b",
   "metadata": {},
   "outputs": [
    {
     "name": "stdout",
     "output_type": "stream",
     "text": [
      "[[ 0  1  2  3]\n",
      " [ 4  5  6  7]\n",
      " [ 8  9 10 11]\n",
      " [12 13 14 15]\n",
      " [16 17 18 19]\n",
      " [20 21 22 23]\n",
      " [ 0  1  2  3]\n",
      " [ 4  5  6  7]\n",
      " [ 8  9 10 11]\n",
      " [ 0  1  2  3]\n",
      " [ 4  5  6  7]\n",
      " [ 8  9 10 11]]\n",
      "[[ 0  1  2  3 12 13 14 15 12 13 14 15 12 13 14 15  0  1  2  3]\n",
      " [ 4  5  6  7 16 17 18 19 16 17 18 19 16 17 18 19  4  5  6  7]\n",
      " [ 8  9 10 11 20 21 22 23 20 21 22 23 20 21 22 23  8  9 10 11]]\n"
     ]
    }
   ],
   "source": [
    "a=np.arange(12).reshape((3,4))\n",
    "b=np.arange(12,24).reshape((3,4))\n",
    "c=np.vstack((a,b,a,a))\n",
    "d=np.hstack((a,b,b,b,a))\n",
    "print(c)\n",
    "print(d)\n"
   ]
  },
  {
   "cell_type": "markdown",
   "id": "0d31083e-7071-43e6-a78a-8c5111d0322a",
   "metadata": {},
   "source": [
    "## advanced indexing and boolean masking"
   ]
  },
  {
   "cell_type": "code",
   "execution_count": 134,
   "id": "3660cb72-8643-402f-bf70-00a238cfaee8",
   "metadata": {},
   "outputs": [
    {
     "name": "stdout",
     "output_type": "stream",
     "text": [
      "[[59 75  0 21 95 65 55 51  2 64]\n",
      " [34 49 94 33 26 73 72 99 12 86]\n",
      " [90 70 81 11 98 22 86 24 56 54]\n",
      " [14 79 62 59 89 88 71 53 47  3]\n",
      " [42 11 44 88 92 54 17 96 82 70]\n",
      " [28  3 48 30 18 44 99 30 71  7]\n",
      " [32 75 18 11 36 55 15 97  7 54]\n",
      " [26 65 38  9 62 86 93 34 10 24]\n",
      " [21 29  9 55 24 54 41 43 21 25]\n",
      " [37 38 42 16 82  0 73 70 44 82]]\n"
     ]
    }
   ],
   "source": [
    "a=np.random.randint(0,100,size=(10,10))\n",
    "print(a)"
   ]
  },
  {
   "cell_type": "code",
   "execution_count": 135,
   "id": "1f5ef4b6-ea34-4840-843c-8a3e18d63f94",
   "metadata": {},
   "outputs": [
    {
     "data": {
      "text/plain": [
       "array([[ True,  True, False, False,  True,  True,  True,  True, False,\n",
       "         True],\n",
       "       [ True,  True,  True,  True,  True,  True,  True,  True, False,\n",
       "         True],\n",
       "       [ True,  True,  True, False,  True, False,  True, False,  True,\n",
       "         True],\n",
       "       [False,  True,  True,  True,  True,  True,  True,  True,  True,\n",
       "        False],\n",
       "       [ True, False,  True,  True,  True,  True, False,  True,  True,\n",
       "         True],\n",
       "       [ True, False,  True,  True, False,  True,  True,  True,  True,\n",
       "        False],\n",
       "       [ True,  True, False, False,  True,  True, False,  True, False,\n",
       "         True],\n",
       "       [ True,  True,  True, False,  True,  True,  True,  True, False,\n",
       "        False],\n",
       "       [False,  True, False,  True, False,  True,  True,  True, False,\n",
       "        False],\n",
       "       [ True,  True,  True, False,  True, False,  True,  True,  True,\n",
       "         True]])"
      ]
     },
     "execution_count": 135,
     "metadata": {},
     "output_type": "execute_result"
    }
   ],
   "source": [
    "a>25"
   ]
  },
  {
   "cell_type": "code",
   "execution_count": 136,
   "id": "4c5dc275-f816-4f2b-81f7-9047916376ce",
   "metadata": {},
   "outputs": [
    {
     "data": {
      "text/plain": [
       "array([59, 75, 95, 65, 55, 51, 64, 34, 49, 94, 33, 26, 73, 72, 99, 86, 90,\n",
       "       70, 81, 98, 86, 56, 54, 79, 62, 59, 89, 88, 71, 53, 47, 42, 44, 88,\n",
       "       92, 54, 96, 82, 70, 28, 48, 30, 44, 99, 30, 71, 32, 75, 36, 55, 97,\n",
       "       54, 26, 65, 38, 62, 86, 93, 34, 29, 55, 54, 41, 43, 37, 38, 42, 82,\n",
       "       73, 70, 44, 82])"
      ]
     },
     "execution_count": 136,
     "metadata": {},
     "output_type": "execute_result"
    }
   ],
   "source": [
    "a[a>25]"
   ]
  },
  {
   "cell_type": "code",
   "execution_count": 141,
   "id": "2a7970d2-3cf6-4137-899f-e698983bc078",
   "metadata": {},
   "outputs": [
    {
     "data": {
      "text/plain": [
       "array([2, 3, 9])"
      ]
     },
     "execution_count": 141,
     "metadata": {},
     "output_type": "execute_result"
    }
   ],
   "source": [
    "b=np.array([1,2,3,4,5,6,7,8,9])\n",
    "b[[1,2,8]]"
   ]
  },
  {
   "cell_type": "code",
   "execution_count": 142,
   "id": "928d46aa-175d-48b4-9298-1e6f6ccc1f0f",
   "metadata": {},
   "outputs": [
    {
     "name": "stdout",
     "output_type": "stream",
     "text": [
      "[[59 75  0 21 95 65 55 51  2 64]\n",
      " [34 49 94 33 26 73 72 99 12 86]\n",
      " [90 70 81 11 98 22 86 24 56 54]\n",
      " [14 79 62 59 89 88 71 53 47  3]\n",
      " [42 11 44 88 92 54 17 96 82 70]\n",
      " [28  3 48 30 18 44 99 30 71  7]\n",
      " [32 75 18 11 36 55 15 97  7 54]\n",
      " [26 65 38  9 62 86 93 34 10 24]\n",
      " [21 29  9 55 24 54 41 43 21 25]\n",
      " [37 38 42 16 82  0 73 70 44 82]]\n"
     ]
    }
   ],
   "source": [
    "print(a)"
   ]
  },
  {
   "cell_type": "code",
   "execution_count": 143,
   "id": "33421135-3ba4-48a9-9a86-f82f0728eb76",
   "metadata": {},
   "outputs": [
    {
     "data": {
      "text/plain": [
       "array([ True,  True,  True,  True,  True,  True,  True,  True,  True,\n",
       "        True])"
      ]
     },
     "execution_count": 143,
     "metadata": {},
     "output_type": "execute_result"
    }
   ],
   "source": [
    "np.any(a>25,axis=0)"
   ]
  },
  {
   "cell_type": "code",
   "execution_count": 144,
   "id": "abd566c1-3fda-4c8d-97e3-a40738d142e4",
   "metadata": {},
   "outputs": [
    {
     "data": {
      "text/plain": [
       "array([False, False, False, False, False, False, False, False, False,\n",
       "       False])"
      ]
     },
     "execution_count": 144,
     "metadata": {},
     "output_type": "execute_result"
    }
   ],
   "source": [
    "np.all(a>25,axis=1)"
   ]
  },
  {
   "cell_type": "code",
   "execution_count": 145,
   "id": "7d2ef7fd-ebf7-479e-bf06-af09b7bf70c9",
   "metadata": {},
   "outputs": [
    {
     "name": "stdout",
     "output_type": "stream",
     "text": [
      "[[59 75  0 21 95 65 55 51  2 64]\n",
      " [34 49 94 33 26 73 72 99 12 86]\n",
      " [90 70 81 11 98 22 86 24 56 54]\n",
      " [14 79 62 59 89 88 71 53 47  3]\n",
      " [42 11 44 88 92 54 17 96 82 70]\n",
      " [28  3 48 30 18 44 99 30 71  7]\n",
      " [32 75 18 11 36 55 15 97  7 54]\n",
      " [26 65 38  9 62 86 93 34 10 24]\n",
      " [21 29  9 55 24 54 41 43 21 25]\n",
      " [37 38 42 16 82  0 73 70 44 82]]\n"
     ]
    }
   ],
   "source": [
    "print(a)"
   ]
  },
  {
   "cell_type": "code",
   "execution_count": 148,
   "id": "f6195832-88fb-4cde-b0d9-f33614ff939f",
   "metadata": {},
   "outputs": [
    {
     "data": {
      "text/plain": [
       "array([[False, False, False, False, False, False, False, False, False,\n",
       "        False],\n",
       "       [ True, False, False,  True,  True, False, False, False, False,\n",
       "        False],\n",
       "       [False, False, False, False, False, False, False, False, False,\n",
       "        False],\n",
       "       [False, False, False, False, False, False, False, False, False,\n",
       "        False],\n",
       "       [False, False, False, False, False, False, False, False, False,\n",
       "        False],\n",
       "       [ True, False, False,  True, False, False, False,  True, False,\n",
       "        False],\n",
       "       [ True, False, False, False,  True, False, False, False, False,\n",
       "        False],\n",
       "       [ True, False,  True, False, False, False, False,  True, False,\n",
       "        False],\n",
       "       [False,  True, False, False, False, False, False, False, False,\n",
       "        False],\n",
       "       [ True,  True, False, False, False, False, False, False, False,\n",
       "        False]])"
      ]
     },
     "execution_count": 148,
     "metadata": {},
     "output_type": "execute_result"
    }
   ],
   "source": [
    "((a>25) & (a<40))"
   ]
  },
  {
   "cell_type": "code",
   "execution_count": 149,
   "id": "e0adeebc-9247-4508-9c10-c0039c3dd26d",
   "metadata": {},
   "outputs": [
    {
     "data": {
      "text/plain": [
       "array([34, 33, 26, 28, 30, 30, 32, 36, 26, 38, 34, 29, 37, 38])"
      ]
     },
     "execution_count": 149,
     "metadata": {},
     "output_type": "execute_result"
    }
   ],
   "source": [
    "a[((a>25) & (a<40))]"
   ]
  },
  {
   "cell_type": "code",
   "execution_count": 150,
   "id": "d1d70d74-c4d0-4d12-acd0-53bac1954660",
   "metadata": {},
   "outputs": [
    {
     "data": {
      "text/plain": [
       "array([[ True,  True,  True,  True,  True,  True,  True,  True,  True,\n",
       "         True],\n",
       "       [False,  True,  True, False, False,  True,  True,  True,  True,\n",
       "         True],\n",
       "       [ True,  True,  True,  True,  True,  True,  True,  True,  True,\n",
       "         True],\n",
       "       [ True,  True,  True,  True,  True,  True,  True,  True,  True,\n",
       "         True],\n",
       "       [ True,  True,  True,  True,  True,  True,  True,  True,  True,\n",
       "         True],\n",
       "       [False,  True,  True, False,  True,  True,  True, False,  True,\n",
       "         True],\n",
       "       [False,  True,  True,  True, False,  True,  True,  True,  True,\n",
       "         True],\n",
       "       [False,  True, False,  True,  True,  True,  True, False,  True,\n",
       "         True],\n",
       "       [ True, False,  True,  True,  True,  True,  True,  True,  True,\n",
       "         True],\n",
       "       [False, False,  True,  True,  True,  True,  True,  True,  True,\n",
       "         True]])"
      ]
     },
     "execution_count": 150,
     "metadata": {},
     "output_type": "execute_result"
    }
   ],
   "source": [
    "~((a>25) & (a<40))"
   ]
  },
  {
   "cell_type": "code",
   "execution_count": 151,
   "id": "5147c274-5f58-4a70-a673-b864e42606b4",
   "metadata": {},
   "outputs": [
    {
     "data": {
      "text/plain": [
       "array([59, 75,  0, 21, 95, 65, 55, 51,  2, 64, 49, 94, 73, 72, 99, 12, 86,\n",
       "       90, 70, 81, 11, 98, 22, 86, 24, 56, 54, 14, 79, 62, 59, 89, 88, 71,\n",
       "       53, 47,  3, 42, 11, 44, 88, 92, 54, 17, 96, 82, 70,  3, 48, 18, 44,\n",
       "       99, 71,  7, 75, 18, 11, 55, 15, 97,  7, 54, 65,  9, 62, 86, 93, 10,\n",
       "       24, 21,  9, 55, 24, 54, 41, 43, 21, 25, 42, 16, 82,  0, 73, 70, 44,\n",
       "       82])"
      ]
     },
     "execution_count": 151,
     "metadata": {},
     "output_type": "execute_result"
    }
   ],
   "source": [
    "a[~((a>25) & (a<40))]"
   ]
  },
  {
   "cell_type": "code",
   "execution_count": null,
   "id": "191fa348-9b5f-45bc-b9bd-65e1fb2cea51",
   "metadata": {},
   "outputs": [],
   "source": []
  }
 ],
 "metadata": {
  "kernelspec": {
   "display_name": "Python 3 (ipykernel)",
   "language": "python",
   "name": "python3"
  },
  "language_info": {
   "codemirror_mode": {
    "name": "ipython",
    "version": 3
   },
   "file_extension": ".py",
   "mimetype": "text/x-python",
   "name": "python",
   "nbconvert_exporter": "python",
   "pygments_lexer": "ipython3",
   "version": "3.11.5"
  }
 },
 "nbformat": 4,
 "nbformat_minor": 5
}
