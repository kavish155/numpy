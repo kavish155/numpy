{
 "cells": [
  {
   "cell_type": "markdown",
   "id": "da5b4c83-1ff7-4356-b5aa-680e1c30d9e1",
   "metadata": {},
   "source": [
    "# codebasics lecture 1"
   ]
  },
  {
   "cell_type": "code",
   "execution_count": 10,
   "id": "25bf7c2a-ccf6-46de-b91a-98a8d86845c2",
   "metadata": {},
   "outputs": [
    {
     "name": "stdout",
     "output_type": "stream",
     "text": [
      "[1 2 3 4]\n",
      "1\n",
      "4\n"
     ]
    }
   ],
   "source": [
    "import numpy as np\n",
    "a=np.array([1,2,3,4])\n",
    "print(a)\n",
    "print(a[0])\n",
    "print(a[3])\n"
   ]
  },
  {
   "cell_type": "code",
   "execution_count": 27,
   "id": "d47bbb41-634b-4181-9787-7df04381bfbe",
   "metadata": {},
   "outputs": [
    {
     "name": "stdout",
     "output_type": "stream",
     "text": [
      "range(0, 16)\n",
      "16\n"
     ]
    }
   ],
   "source": [
    "l=range(0,16) # makes an array from 0 to a certain number \n",
    "print(l)\n",
    "l[12]\n",
    "print(len(l))"
   ]
  },
  {
   "cell_type": "code",
   "execution_count": 38,
   "id": "c55c92f6-e41a-4c79-8a70-cea53f7671fb",
   "metadata": {},
   "outputs": [
    {
     "name": "stdout",
     "output_type": "stream",
     "text": [
      "[ 0  1  2  3  4  5  6  7  8  9 10 11 12 13 14 15]\n",
      "16\n",
      "4\n",
      "64\n",
      "int32\n",
      "(16,)\n",
      "1\n",
      "64\n"
     ]
    }
   ],
   "source": [
    "import numpy as np\n",
    "a=np.arange(16)\n",
    "print(a)\n",
    "print(a.size)\n",
    "print(a.itemsize)\n",
    "print(a.size*a.itemsize)\n",
    "print(a.nbytes)\n",
    "print(a.dtype)\n",
    "print(a.shape)\n",
    "print(a.ndim)"
   ]
  },
  {
   "cell_type": "code",
   "execution_count": 42,
   "id": "3292c945-94ee-4d20-8c8b-2230578454ea",
   "metadata": {},
   "outputs": [
    {
     "name": "stdout",
     "output_type": "stream",
     "text": [
      "[26 28 30 32 34 36 38 40 42 44 46 48 50 52 54 56 58 60 62 64 66 68 70 72\n",
      " 74]\n",
      "[   0   27   56   87  120  155  192  231  272  315  360  407  456  507\n",
      "  560  615  672  731  792  855  920  987 1056 1127 1200]\n",
      "[-26 -26 -26 -26 -26 -26 -26 -26 -26 -26 -26 -26 -26 -26 -26 -26 -26 -26\n",
      " -26 -26 -26 -26 -26 -26 -26]\n",
      "[ 52  54  56  58  60  62  64  66  68  70  72  74  76  78  80  82  84  86\n",
      "  88  90  92  94  96  98 100]\n"
     ]
    }
   ],
   "source": [
    "#we can do all operations on numpy\n",
    "import numpy as np\n",
    "a=np.arange(25)\n",
    "b=np.arange(26,51)\n",
    "print(a+b)\n",
    "print(a*b)\n",
    "print(a-b)\n",
    "print((a+b)-(a-b))"
   ]
  },
  {
   "cell_type": "markdown",
   "id": "7a5235cc-4465-4732-a8ac-d7aa376c4368",
   "metadata": {},
   "source": [
    "# codebasics lecture 2"
   ]
  },
  {
   "cell_type": "code",
   "execution_count": 54,
   "id": "e3d9e13e-b485-4c81-8b93-7d2d9f3a6f26",
   "metadata": {},
   "outputs": [
    {
     "name": "stdout",
     "output_type": "stream",
     "text": [
      "[[1 2]\n",
      " [3 4]\n",
      " [5 6]]\n",
      "2\n",
      "4\n",
      "6\n",
      "int32\n",
      "24\n",
      "24\n"
     ]
    }
   ],
   "source": [
    "import numpy as np\n",
    "a=np.array([[1,2],[3,4],[5,6]])\n",
    "print(a)\n",
    "print(a.ndim)\n",
    "print(a.itemsize)\n",
    "print(a.size)\n",
    "print(a.dtype)\n",
    "print(a.nbytes)\n",
    "print(a.size*a.itemsize)"
   ]
  },
  {
   "cell_type": "code",
   "execution_count": 66,
   "id": "3a6a1130-63a1-46b6-a614-53ce565e705f",
   "metadata": {},
   "outputs": [
    {
     "name": "stdout",
     "output_type": "stream",
     "text": [
      "(3, 2)\n",
      "8\n",
      "[[1. 2.]\n",
      " [3. 4.]\n",
      " [5. 6.]]\n",
      "16\n",
      "[[1.+0.j 2.+0.j]\n",
      " [3.+0.j 4.+0.j]\n",
      " [5.+0.j 6.+0.j]]\n",
      "8\n",
      "[[1 2]\n",
      " [3 4]\n",
      " [5 6]]\n"
     ]
    }
   ],
   "source": [
    "import numpy as np\n",
    "a=np.array([[1,2],[3,4],[5,6]])\n",
    "print(a.shape)\n",
    "a=np.array([[1,2],[3,4],[5,6]],dtype=float)\n",
    "print(a.itemsize)\n",
    "print(a)\n",
    "a=np.array([[1,2],[3,4],[5,6]],dtype=complex)\n",
    "print(a.itemsize)\n",
    "print(a)\n",
    "a=np.array([[1,2],[3,4],[5,6]],dtype='int64')\n",
    "print(a.itemsize)\n",
    "print(a)"
   ]
  },
  {
   "cell_type": "code",
   "execution_count": 69,
   "id": "6ba66a08-e6f8-40e3-9530-854685d3e779",
   "metadata": {},
   "outputs": [
    {
     "name": "stdout",
     "output_type": "stream",
     "text": [
      "[[0. 0. 0. 0.]\n",
      " [0. 0. 0. 0.]]\n",
      "[[1. 1. 1. 1.]\n",
      " [1. 1. 1. 1.]]\n",
      "[[0 0 0 0]\n",
      " [0 0 0 0]]\n"
     ]
    }
   ],
   "source": [
    "import numpy as np\n",
    "a=np.zeros((2,4))\n",
    "print(a)\n",
    "b=np.ones((2,4))\n",
    "print(b)\n",
    "a=np.zeros((2,4),dtype='int64')\n",
    "print(a)"
   ]
  },
  {
   "cell_type": "code",
   "execution_count": 71,
   "id": "d4b62aad-919e-4d51-b42f-f1f0e5aaacb9",
   "metadata": {},
   "outputs": [
    {
     "name": "stdout",
     "output_type": "stream",
     "text": [
      "range(0, 10) range(5, 7)\n",
      "3 5\n"
     ]
    }
   ],
   "source": [
    "a=range(10)\n",
    "b=range(5,7)\n",
    "print(a,b)\n",
    "print(a[3],b[0])"
   ]
  },
  {
   "cell_type": "code",
   "execution_count": 78,
   "id": "7b40f3a8-b76d-4072-8127-0ef1e5bbfc6e",
   "metadata": {},
   "outputs": [
    {
     "name": "stdout",
     "output_type": "stream",
     "text": [
      "[4 5 6 7 8 9]\n"
     ]
    },
    {
     "data": {
      "text/plain": [
       "array([5, 6])"
      ]
     },
     "execution_count": 78,
     "metadata": {},
     "output_type": "execute_result"
    }
   ],
   "source": [
    "a=np.arange(4,10)\n",
    "print(a)\n",
    "a[1:3]\n"
   ]
  },
  {
   "cell_type": "code",
   "execution_count": 82,
   "id": "4b84aa1b-2ffc-4b60-90cb-6fd5e69683cf",
   "metadata": {},
   "outputs": [
    {
     "name": "stdout",
     "output_type": "stream",
     "text": [
      "[0 3 6 9]\n",
      "[10 15 20 25 30 35 40 45 50 55 60 65 70 75 80 85 90 95]\n"
     ]
    }
   ],
   "source": [
    "a=np.arange(0,10,3)\n",
    "print(a)\n",
    "a=np.arange(10,100,5)\n",
    "print(a)"
   ]
  },
  {
   "cell_type": "code",
   "execution_count": 4,
   "id": "1f29ab37-2d20-4abc-af1a-8403c89b6666",
   "metadata": {},
   "outputs": [
    {
     "name": "stdout",
     "output_type": "stream",
     "text": [
      "[ 0.  5. 10.]\n",
      "[1.         1.44444444 1.88888889 2.33333333 2.77777778 3.22222222\n",
      " 3.66666667 4.11111111 4.55555556 5.        ]\n"
     ]
    }
   ],
   "source": [
    "import numpy as np\n",
    "a=np.linspace(0,10,3)\n",
    "print(a)\n",
    "a=np.linspace(1,5,10)\n",
    "print(a)"
   ]
  },
  {
   "cell_type": "code",
   "execution_count": 11,
   "id": "08c309c7-00f2-4830-9be9-dd0410585af2",
   "metadata": {},
   "outputs": [
    {
     "name": "stdout",
     "output_type": "stream",
     "text": [
      "(2, 4)\n",
      "[[1 2]\n",
      " [3 4]\n",
      " [5 6]\n",
      " [7 8]]\n",
      "[[1 2 3 4]\n",
      " [5 6 7 8]]\n",
      "[1 2 3 4 5 6 7 8]\n",
      "[[1 2 3 4]\n",
      " [5 6 7 8]]\n"
     ]
    }
   ],
   "source": [
    "import numpy as np\n",
    "a=np.array([[1,2,3,4],[5,6,7,8]])\n",
    "print(a.shape)\n",
    "print(a.reshape(4,2))\n",
    "print(a)\n",
    "print(a.ravel())\n",
    "print(a)"
   ]
  },
  {
   "cell_type": "code",
   "execution_count": 16,
   "id": "023c2e4f-0c9f-4a5d-8d44-32260a3ff6ec",
   "metadata": {},
   "outputs": [
    {
     "name": "stdout",
     "output_type": "stream",
     "text": [
      "1\n",
      "8\n",
      "36\n",
      "[1 2 3 4]\n",
      "[4 8]\n",
      "[10 26]\n",
      "[[1.         1.41421356 1.73205081 2.        ]\n",
      " [2.23606798 2.44948974 2.64575131 2.82842712]]\n",
      "2.29128784747792\n"
     ]
    }
   ],
   "source": [
    "import numpy as np\n",
    "a=np.array([[1,2,3,4],[5,6,7,8]])\n",
    "print(a.min())\n",
    "print(a.max())\n",
    "print(a.sum())\n",
    "print(a.min(axis=0))\n",
    "print(a.max(axis=1))\n",
    "print(a.sum(axis=1))\n",
    "print(np.sqrt(a))\n",
    "print(np.std(a))"
   ]
  },
  {
   "cell_type": "code",
   "execution_count": 17,
   "id": "2ae02863-bbfd-44b7-a82f-38b8e5dfca95",
   "metadata": {},
   "outputs": [
    {
     "name": "stdout",
     "output_type": "stream",
     "text": [
      "[[10 12 14 16]\n",
      " [18 20 22 24]]\n",
      "[[  9  20  33  48]\n",
      " [ 65  84 105 128]]\n",
      "[[-8 -8 -8 -8]\n",
      " [-8 -8 -8 -8]]\n",
      "[[0.11111111 0.2        0.27272727 0.33333333]\n",
      " [0.38461538 0.42857143 0.46666667 0.5       ]]\n"
     ]
    }
   ],
   "source": [
    "import numpy as np\n",
    "a=np.array([[1,2,3,4],[5,6,7,8]])\n",
    "b=np.array([[9,10,11,12],[13,14,15,16]])\n",
    "print(a+b)\n",
    "print(a*b)\n",
    "print(a-b)\n",
    "print(a/b)"
   ]
  },
  {
   "cell_type": "code",
   "execution_count": 18,
   "id": "4f6c45ff-8a87-4972-8416-afe142b8344e",
   "metadata": {},
   "outputs": [
    {
     "name": "stdout",
     "output_type": "stream",
     "text": [
      "[[13 16]\n",
      " [29 36]]\n"
     ]
    }
   ],
   "source": [
    "import numpy as np\n",
    "a=np.array([[1,2],[3,4]])\n",
    "b=np.array([[3,4],[5,6]])\n",
    "print(a.dot(b))"
   ]
  },
  {
   "cell_type": "markdown",
   "id": "44c5ed08-1dbb-46b5-863e-96cd898a7cbd",
   "metadata": {},
   "source": [
    "# codebasics lecture 3"
   ]
  },
  {
   "cell_type": "code",
   "execution_count": 3,
   "id": "4047e306-9d63-469c-a127-b83ad5c08727",
   "metadata": {},
   "outputs": [
    {
     "name": "stdout",
     "output_type": "stream",
     "text": [
      "2\n",
      "[4 5 6 7 8]\n",
      "[4 5 6 7]\n",
      "[1 2 3 4 5 6]\n"
     ]
    }
   ],
   "source": [
    "import numpy as np\n",
    "a=np.array([1,2,3,4,5,6,7,8,9,10])\n",
    "print(a[1])\n",
    "print(a[3:8])\n",
    "print(a[3:-3])\n",
    "print(a[:-4])\n"
   ]
  },
  {
   "cell_type": "code",
   "execution_count": 6,
   "id": "b74b1267-9866-4577-ad08-a8f38cad09f4",
   "metadata": {},
   "outputs": [
    {
     "name": "stdout",
     "output_type": "stream",
     "text": [
      "12\n",
      "2\n",
      "[[1 2]\n",
      " [5 6]]\n",
      "[6 7 8]\n",
      "[ 9 10 11 12]\n",
      "[ 9 10]\n"
     ]
    }
   ],
   "source": [
    "import numpy as np\n",
    "a=np.array([[1,2,3,4],[5,6,7,8],[9,10,11,12]])\n",
    "print(a[2,3])\n",
    "print(a[0,1])\n",
    "print(a[0:2,0:2])\n",
    "print(a[1][1:4])\n",
    "print(a[-1])\n",
    "print(a[-1,:2])\n"
   ]
  },
  {
   "cell_type": "code",
   "execution_count": 16,
   "id": "e977b746-a338-411b-b26f-db25053451d9",
   "metadata": {},
   "outputs": [
    {
     "name": "stdout",
     "output_type": "stream",
     "text": [
      "[1 2 3 4]\n",
      "[5 6 7 8]\n",
      "[ 9 10 11 12]\n",
      "1\n",
      "2\n",
      "3\n",
      "4\n",
      "5\n",
      "6\n",
      "7\n",
      "8\n",
      "9\n",
      "10\n",
      "11\n",
      "12\n",
      "1 2 3 4 5 6 7 8 9 10 11 12 <numpy.flatiter object at 0x0000020CF1615130>\n",
      "1 2 3 4 5 6 7 8 9 10 11 12 "
     ]
    }
   ],
   "source": [
    "import numpy as np\n",
    "a=np.array([[1,2,3,4],[5,6,7,8],[9,10,11,12]])\n",
    "for row in a:\n",
    "    print(row)\n",
    "\n",
    "for row in a:\n",
    "    for i in row:\n",
    "        print(i)\n",
    "\n",
    "for row in a:\n",
    "    for i in row:\n",
    "        print(i, end =\" \")\n",
    "\n",
    "b=a.flat\n",
    "print(b)\n",
    "\n",
    "for cell in a.flat:\n",
    "    print(cell,end=\" \")\n",
    "\n"
   ]
  },
  {
   "cell_type": "code",
   "execution_count": 32,
   "id": "9e9bea22-a19a-4432-aa55-0a31607eabec",
   "metadata": {},
   "outputs": [
    {
     "name": "stdout",
     "output_type": "stream",
     "text": [
      "[[ 1  2  3]\n",
      " [ 4  5  6]\n",
      " [ 7  8  9]\n",
      " [10 11 12]\n",
      " [13 14 15]\n",
      " [16 17 18]\n",
      " [19 20 21]\n",
      " [22 23 24]]\n",
      "[[ 1  2  3 13 14 15]\n",
      " [ 4  5  6 16 17 18]\n",
      " [ 7  8  9 19 20 21]\n",
      " [10 11 12 22 23 24]]\n"
     ]
    }
   ],
   "source": [
    "import numpy as np\n",
    "a=np.arange(1,13).reshape(4,3)\n",
    "b=np.arange(13,25).reshape(4,3)\n",
    "c=np.vstack((a,b))\n",
    "d=np.hstack((a,b))\n",
    "print(c)\n",
    "print(d)"
   ]
  },
  {
   "cell_type": "code",
   "execution_count": 28,
   "id": "62fc0ba9-6026-41ae-be96-6bdc3630c640",
   "metadata": {},
   "outputs": [
    {
     "name": "stdout",
     "output_type": "stream",
     "text": [
      "[array([[ 1,  2],\n",
      "       [ 5,  6],\n",
      "       [ 9, 10]]), array([[ 3,  4],\n",
      "       [ 7,  8],\n",
      "       [11, 12]])]\n",
      "[array([[1, 2, 3, 4]]), array([[5, 6, 7, 8]]), array([[ 9, 10, 11, 12]])]\n",
      "[[ 1  2]\n",
      " [ 5  6]\n",
      " [ 9 10]]\n",
      "[[ 3  4]\n",
      " [ 7  8]\n",
      " [11 12]]\n",
      "[1 2 3 4]\n",
      "[5 6 7 8]\n"
     ]
    }
   ],
   "source": [
    "import numpy as np\n",
    "a=np.arange(1,13).reshape(3,4)\n",
    "b=np.hsplit(a,2)\n",
    "c=np.vsplit(a,3)\n",
    "print(b)\n",
    "print(c)\n",
    "print(b[0])\n",
    "print(b[1])\n",
    "print(a[0])\n",
    "print(a[1])"
   ]
  },
  {
   "cell_type": "code",
   "execution_count": 44,
   "id": "afaa59cd-093f-43ad-816b-bce6036512da",
   "metadata": {},
   "outputs": [
    {
     "name": "stdout",
     "output_type": "stream",
     "text": [
      "[[ 1  2  3  4]\n",
      " [ 5  6  7  8]\n",
      " [ 9 10 11 12]]\n",
      "[[False False False False]\n",
      " [ True  True  True  True]\n",
      " [ True  True  True  True]]\n",
      "[ 5  6  7  8  9 10 11 12]\n",
      "[[ 1  2  3  4]\n",
      " [-1 -1 -1 -1]\n",
      " [-1 -1 -1 -1]]\n"
     ]
    }
   ],
   "source": [
    "import numpy as np\n",
    "a=np.arange(1,13).reshape(3,4)\n",
    "print(a)\n",
    "b=a>4\n",
    "print(b)\n",
    "print(a[b])\n",
    "a[b]=-1;\n",
    "print(a)"
   ]
  },
  {
   "cell_type": "markdown",
   "id": "2a1002c0-e2f0-4379-a462-e51358709677",
   "metadata": {},
   "source": [
    "# codebasics lecture 4"
   ]
  },
  {
   "cell_type": "code",
   "execution_count": null,
   "id": "f29c9457-2a84-4de4-a457-89e96f56bb51",
   "metadata": {},
   "outputs": [],
   "source": []
  }
 ],
 "metadata": {
  "kernelspec": {
   "display_name": "Python 3 (ipykernel)",
   "language": "python",
   "name": "python3"
  },
  "language_info": {
   "codemirror_mode": {
    "name": "ipython",
    "version": 3
   },
   "file_extension": ".py",
   "mimetype": "text/x-python",
   "name": "python",
   "nbconvert_exporter": "python",
   "pygments_lexer": "ipython3",
   "version": "3.11.5"
  }
 },
 "nbformat": 4,
 "nbformat_minor": 5
}
